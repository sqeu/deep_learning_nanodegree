{
 "cells": [
  {
   "cell_type": "markdown",
   "metadata": {},
   "source": [
    "# Sentiment Analysis\n",
    "\n",
    "## Using XGBoost in SageMaker\n",
    "\n",
    "_Deep Learning Nanodegree Program | Deployment_\n",
    "\n",
    "---\n",
    "\n",
    "In this example of using Amazon's SageMaker service we will construct a random tree model to predict the sentiment of a movie review. You may have seen a version of this example in a pervious lesson although it would have been done using the sklearn package. Instead, we will be using the XGBoost package as it is provided to us by Amazon.\n",
    "\n",
    "## Instructions\n",
    "\n",
    "Some template code has already been provided for you, and you will need to implement additional functionality to successfully complete this notebook. You will not need to modify the included code beyond what is requested. Sections that begin with '**TODO**' in the header indicate that you need to complete or implement some portion within them. Instructions will be provided for each section and the specifics of the implementation are marked in the code block with a `# TODO: ...` comment. Please be sure to read the instructions carefully!\n",
    "\n",
    "In addition to implementing code, there will be questions for you to answer which relate to the task and your implementation. Each section where you will answer a question is preceded by a '**Question:**' header. Carefully read each question and provide your answer below the '**Answer:**' header by editing the Markdown cell.\n",
    "\n",
    "> **Note**: Code and Markdown cells can be executed using the **Shift+Enter** keyboard shortcut. In addition, a cell can be edited by typically clicking it (double-click for Markdown cells) or by pressing **Enter** while it is highlighted."
   ]
  },
  {
   "cell_type": "markdown",
   "metadata": {},
   "source": [
    "## Step 1: Downloading the data\n",
    "\n",
    "The dataset we are going to use is very popular among researchers in Natural Language Processing, usually referred to as the [IMDb dataset](http://ai.stanford.edu/~amaas/data/sentiment/). It consists of movie reviews from the website [imdb.com](http://www.imdb.com/), each labeled as either '**pos**itive', if the reviewer enjoyed the film, or '**neg**ative' otherwise.\n",
    "\n",
    "> Maas, Andrew L., et al. [Learning Word Vectors for Sentiment Analysis](http://ai.stanford.edu/~amaas/data/sentiment/). In _Proceedings of the 49th Annual Meeting of the Association for Computational Linguistics: Human Language Technologies_. Association for Computational Linguistics, 2011.\n",
    "\n",
    "We begin by using some Jupyter Notebook magic to download and extract the dataset."
   ]
  },
  {
   "cell_type": "markdown",
   "metadata": {},
   "source": [
    "%mkdir ../data\n",
    "!wget -O ../data/aclImdb_v1.tar.gz http://ai.stanford.edu/~amaas/data/sentiment/aclImdb_v1.tar.gz\n",
    "!tar -zxf ../data/aclImdb_v1.tar.gz -C ../data"
   ]
  },
  {
   "cell_type": "markdown",
   "metadata": {},
   "source": [
    "## Step 2: Preparing the data\n",
    "\n",
    "The data we have downloaded is split into various files, each of which contains a single review. It will be much easier going forward if we combine these individual files into two large files, one for training and one for testing."
   ]
  },
  {
   "cell_type": "code",
   "execution_count": 2,
   "metadata": {},
   "outputs": [],
   "source": [
    "import os\n",
    "import glob\n",
    "\n",
    "def read_imdb_data(data_dir='../data/aclImdb'):\n",
    "    data = {}\n",
    "    labels = {}\n",
    "    \n",
    "    for data_type in ['train', 'test']:\n",
    "        data[data_type] = {}\n",
    "        labels[data_type] = {}\n",
    "        \n",
    "        for sentiment in ['pos', 'neg']:\n",
    "            data[data_type][sentiment] = []\n",
    "            labels[data_type][sentiment] = []\n",
    "            \n",
    "            path = os.path.join(data_dir, data_type, sentiment, '*.txt')\n",
    "            files = glob.glob(path)\n",
    "            \n",
    "            for f in files:\n",
    "                with open(f) as review:\n",
    "                    data[data_type][sentiment].append(review.read())\n",
    "                    # Here we represent a positive review by '1' and a negative review by '0'\n",
    "                    labels[data_type][sentiment].append(1 if sentiment == 'pos' else 0)\n",
    "                    \n",
    "            assert len(data[data_type][sentiment]) == len(labels[data_type][sentiment]), \\\n",
    "                    \"{}/{} data size does not match labels size\".format(data_type, sentiment)\n",
    "                \n",
    "    return data, labels"
   ]
  },
  {
   "cell_type": "code",
   "execution_count": 3,
   "metadata": {},
   "outputs": [
    {
     "name": "stdout",
     "output_type": "stream",
     "text": [
      "IMDB reviews: train = 12500 pos / 12500 neg, test = 12500 pos / 12500 neg\n"
     ]
    }
   ],
   "source": [
    "data, labels = read_imdb_data()\n",
    "print(\"IMDB reviews: train = {} pos / {} neg, test = {} pos / {} neg\".format(\n",
    "            len(data['train']['pos']), len(data['train']['neg']),\n",
    "            len(data['test']['pos']), len(data['test']['neg'])))"
   ]
  },
  {
   "cell_type": "code",
   "execution_count": 4,
   "metadata": {},
   "outputs": [],
   "source": [
    "from sklearn.utils import shuffle\n",
    "\n",
    "def prepare_imdb_data(data, labels):\n",
    "    \"\"\"Prepare training and test sets from IMDb movie reviews.\"\"\"\n",
    "    \n",
    "    #Combine positive and negative reviews and labels\n",
    "    data_train = data['train']['pos'] + data['train']['neg']\n",
    "    data_test = data['test']['pos'] + data['test']['neg']\n",
    "    labels_train = labels['train']['pos'] + labels['train']['neg']\n",
    "    labels_test = labels['test']['pos'] + labels['test']['neg']\n",
    "    \n",
    "    #Shuffle reviews and corresponding labels within training and test sets\n",
    "    data_train, labels_train = shuffle(data_train, labels_train)\n",
    "    data_test, labels_test = shuffle(data_test, labels_test)\n",
    "    \n",
    "    # Return a unified training data, test data, training labels, test labets\n",
    "    return data_train, data_test, labels_train, labels_test"
   ]
  },
  {
   "cell_type": "code",
   "execution_count": 5,
   "metadata": {},
   "outputs": [
    {
     "name": "stdout",
     "output_type": "stream",
     "text": [
      "IMDb reviews (combined): train = 25000, test = 25000\n"
     ]
    }
   ],
   "source": [
    "train_X, test_X, train_y, test_y = prepare_imdb_data(data, labels)\n",
    "print(\"IMDb reviews (combined): train = {}, test = {}\".format(len(train_X), len(test_X)))"
   ]
  },
  {
   "cell_type": "code",
   "execution_count": 6,
   "metadata": {},
   "outputs": [
    {
     "data": {
      "text/plain": [
       "\"Although I bought the DVD when it first came out, and have watched it several times, I never wrote a review.<br /><br />I loved it when I first saw it and I love it still.<br /><br />Sadly, it seems it never made enough money to motivate anyone to do a follow-up. I have to assume QT still controls the rights, but after Kill Bill if he does a film that is as true to the comics and books as My Name is Modesty, with another tough female lead, anyone not familiar with the character will see this as a let-down.<br /><br />Peter O'Donnell wrote his stories to focus more on psychological suspense rather than action thrillers.<br /><br />The tug of wills between Modesty and Miklos is very true to the source material and is tense, suspenseful and fascinating to anyone who doesn't have to have gore and explosions. Alexandra did a great job in playing how O'Donnell's character would have taken control of the situation.<br /><br />I find this particularly ahead of the curve following the sorely needed reboots of Batman and James Bond. After 2 dismal earlier efforts, although not nearly as well known to the public, this is really a reboot of the Modesty character, and it is really sad that probably no more films about her will be made.\""
      ]
     },
     "execution_count": 6,
     "metadata": {},
     "output_type": "execute_result"
    }
   ],
   "source": [
    "train_X[100]"
   ]
  },
  {
   "cell_type": "markdown",
   "metadata": {},
   "source": [
    "## Step 3: Processing the data\n",
    "\n",
    "Now that we have our training and testing datasets merged and ready to use, we need to start processing the raw data into something that will be useable by our machine learning algorithm. To begin with, we remove any html formatting that may appear in the reviews and perform some standard natural language processing in order to homogenize the data."
   ]
  },
  {
   "cell_type": "code",
   "execution_count": 7,
   "metadata": {},
   "outputs": [
    {
     "name": "stdout",
     "output_type": "stream",
     "text": [
      "[nltk_data] Downloading package stopwords to\n",
      "[nltk_data]     /home/ec2-user/nltk_data...\n",
      "[nltk_data]   Package stopwords is already up-to-date!\n"
     ]
    }
   ],
   "source": [
    "import nltk\n",
    "nltk.download(\"stopwords\")\n",
    "from nltk.corpus import stopwords\n",
    "from nltk.stem.porter import *\n",
    "stemmer = PorterStemmer()"
   ]
  },
  {
   "cell_type": "code",
   "execution_count": 8,
   "metadata": {},
   "outputs": [],
   "source": [
    "import re\n",
    "from bs4 import BeautifulSoup\n",
    "\n",
    "def review_to_words(review):\n",
    "    text = BeautifulSoup(review, \"html.parser\").get_text() # Remove HTML tags\n",
    "    text = re.sub(r\"[^a-zA-Z0-9]\", \" \", text.lower()) # Convert to lower case\n",
    "    words = text.split() # Split string into words\n",
    "    words = [w for w in words if w not in stopwords.words(\"english\")] # Remove stopwords\n",
    "    words = [PorterStemmer().stem(w) for w in words] # stem\n",
    "    \n",
    "    return words"
   ]
  },
  {
   "cell_type": "code",
   "execution_count": 9,
   "metadata": {},
   "outputs": [],
   "source": [
    "import pickle\n",
    "\n",
    "cache_dir = os.path.join(\"../cache\", \"sentiment_analysis\")  # where to store cache files\n",
    "os.makedirs(cache_dir, exist_ok=True)  # ensure cache directory exists\n",
    "\n",
    "def preprocess_data(data_train, data_test, labels_train, labels_test,\n",
    "                    cache_dir=cache_dir, cache_file=\"preprocessed_data.pkl\"):\n",
    "    \"\"\"Convert each review to words; read from cache if available.\"\"\"\n",
    "\n",
    "    # If cache_file is not None, try to read from it first\n",
    "    cache_data = None\n",
    "    if cache_file is not None:\n",
    "        try:\n",
    "            with open(os.path.join(cache_dir, cache_file), \"rb\") as f:\n",
    "                cache_data = pickle.load(f)\n",
    "            print(\"Read preprocessed data from cache file:\", cache_file)\n",
    "        except:\n",
    "            pass  # unable to read from cache, but that's okay\n",
    "    \n",
    "    # If cache is missing, then do the heavy lifting\n",
    "    if cache_data is None:\n",
    "        # Preprocess training and test data to obtain words for each review\n",
    "        #words_train = list(map(review_to_words, data_train))\n",
    "        #words_test = list(map(review_to_words, data_test))\n",
    "        words_train = [review_to_words(review) for review in data_train]\n",
    "        words_test = [review_to_words(review) for review in data_test]\n",
    "        \n",
    "        # Write to cache file for future runs\n",
    "        if cache_file is not None:\n",
    "            cache_data = dict(words_train=words_train, words_test=words_test,\n",
    "                              labels_train=labels_train, labels_test=labels_test)\n",
    "            with open(os.path.join(cache_dir, cache_file), \"wb\") as f:\n",
    "                pickle.dump(cache_data, f)\n",
    "            print(\"Wrote preprocessed data to cache file:\", cache_file)\n",
    "    else:\n",
    "        # Unpack data loaded from cache file\n",
    "        words_train, words_test, labels_train, labels_test = (cache_data['words_train'],\n",
    "                cache_data['words_test'], cache_data['labels_train'], cache_data['labels_test'])\n",
    "    \n",
    "    return words_train, words_test, labels_train, labels_test"
   ]
  },
  {
   "cell_type": "code",
   "execution_count": 10,
   "metadata": {},
   "outputs": [
    {
     "name": "stdout",
     "output_type": "stream",
     "text": [
      "Read preprocessed data from cache file: preprocessed_data.pkl\n"
     ]
    }
   ],
   "source": [
    "# Preprocess data\n",
    "train_X, test_X, train_y, test_y = preprocess_data(train_X, test_X, train_y, test_y)"
   ]
  },
  {
   "cell_type": "markdown",
   "metadata": {},
   "source": [
    "### Extract Bag-of-Words features\n",
    "\n",
    "For the model we will be implementing, rather than using the reviews directly, we are going to transform each review into a Bag-of-Words feature representation. Keep in mind that 'in the wild' we will only have access to the training set so our transformer can only use the training set to construct a representation."
   ]
  },
  {
   "cell_type": "code",
   "execution_count": 11,
   "metadata": {},
   "outputs": [],
   "source": [
    "import numpy as np\n",
    "from sklearn.feature_extraction.text import CountVectorizer\n",
    "from sklearn.externals import joblib\n",
    "# joblib is an enhanced version of pickle that is more efficient for storing NumPy arrays\n",
    "\n",
    "def extract_BoW_features(words_train, words_test, vocabulary_size=5000,\n",
    "                         cache_dir=cache_dir, cache_file=\"bow_features.pkl\"):\n",
    "    \"\"\"Extract Bag-of-Words for a given set of documents, already preprocessed into words.\"\"\"\n",
    "    \n",
    "    # If cache_file is not None, try to read from it first\n",
    "    cache_data = None\n",
    "    if cache_file is not None:\n",
    "        try:\n",
    "            with open(os.path.join(cache_dir, cache_file), \"rb\") as f:\n",
    "                cache_data = joblib.load(f)\n",
    "            print(\"Read features from cache file:\", cache_file)\n",
    "        except:\n",
    "            pass  # unable to read from cache, but that's okay\n",
    "    \n",
    "    # If cache is missing, then do the heavy lifting\n",
    "    if cache_data is None:\n",
    "        # Fit a vectorizer to training documents and use it to transform them\n",
    "        # NOTE: Training documents have already been preprocessed and tokenized into words;\n",
    "        #       pass in dummy functions to skip those steps, e.g. preprocessor=lambda x: x\n",
    "        vectorizer = CountVectorizer(max_features=vocabulary_size,\n",
    "                preprocessor=lambda x: x, tokenizer=lambda x: x)  # already preprocessed\n",
    "        features_train = vectorizer.fit_transform(words_train).toarray()\n",
    "\n",
    "        # Apply the same vectorizer to transform the test documents (ignore unknown words)\n",
    "        features_test = vectorizer.transform(words_test).toarray()\n",
    "        \n",
    "        # NOTE: Remember to convert the features using .toarray() for a compact representation\n",
    "        \n",
    "        # Write to cache file for future runs (store vocabulary as well)\n",
    "        if cache_file is not None:\n",
    "            vocabulary = vectorizer.vocabulary_\n",
    "            cache_data = dict(features_train=features_train, features_test=features_test,\n",
    "                             vocabulary=vocabulary)\n",
    "            with open(os.path.join(cache_dir, cache_file), \"wb\") as f:\n",
    "                joblib.dump(cache_data, f)\n",
    "            print(\"Wrote features to cache file:\", cache_file)\n",
    "    else:\n",
    "        # Unpack data loaded from cache file\n",
    "        features_train, features_test, vocabulary = (cache_data['features_train'],\n",
    "                cache_data['features_test'], cache_data['vocabulary'])\n",
    "    \n",
    "    # Return both the extracted features as well as the vocabulary\n",
    "    return features_train, features_test, vocabulary"
   ]
  },
  {
   "cell_type": "code",
   "execution_count": 12,
   "metadata": {},
   "outputs": [
    {
     "name": "stdout",
     "output_type": "stream",
     "text": [
      "Read features from cache file: bow_features.pkl\n"
     ]
    }
   ],
   "source": [
    "# Extract Bag of Words features for both training and test datasets\n",
    "train_X, test_X, vocabulary = extract_BoW_features(train_X, test_X)"
   ]
  },
  {
   "cell_type": "markdown",
   "metadata": {},
   "source": [
    "## Step 4: Classification using XGBoost\n",
    "\n",
    "Now that we have created the feature representation of our training (and testing) data, it is time to start setting up and using the XGBoost classifier provided by SageMaker.\n",
    "\n",
    "### Writing the dataset\n",
    "\n",
    "The XGBoost classifier that we will be using requires the dataset to be written to a file and stored using Amazon S3. To do this, we will start by splitting the training dataset into two parts, the data we will train the model with and a validation set. Then, we will write those datasets to a file and upload the files to S3. In addition, we will write the test set input to a file and upload the file to S3. This is so that we can use SageMakers Batch Transform functionality to test our model once we've fit it."
   ]
  },
  {
   "cell_type": "code",
   "execution_count": 13,
   "metadata": {},
   "outputs": [],
   "source": [
    "import pandas as pd\n",
    "\n",
    "val_X = pd.DataFrame(train_X[:10000])\n",
    "train_X = pd.DataFrame(train_X[10000:])\n",
    "\n",
    "val_y = pd.DataFrame(train_y[:10000])\n",
    "train_y = pd.DataFrame(train_y[10000:])\n",
    "\n",
    "test_y = pd.DataFrame(test_y)\n",
    "test_X = pd.DataFrame(test_X)"
   ]
  },
  {
   "cell_type": "markdown",
   "metadata": {},
   "source": [
    "The documentation for the XGBoost algorithm in SageMaker requires that the saved datasets should contain no headers or index and that for the training and validation data, the label should occur first for each sample.\n",
    "\n",
    "For more information about this and other algorithms, the SageMaker developer documentation can be found on __[Amazon's website.](https://docs.aws.amazon.com/sagemaker/latest/dg/)__"
   ]
  },
  {
   "cell_type": "code",
   "execution_count": 32,
   "metadata": {},
   "outputs": [],
   "source": [
    "# First we make sure that the local directory in which we'd like to store the training and validation csv files exists.\n",
    "data_dir = '../data/xgboost'\n",
    "if not os.path.exists(data_dir):\n",
    "    os.makedirs(data_dir)"
   ]
  },
  {
   "cell_type": "code",
   "execution_count": 33,
   "metadata": {},
   "outputs": [],
   "source": [
    "# First, save the test data to test.csv in the data_dir directory. Note that we do not save the associated ground truth\n",
    "# labels, instead we will use them later to compare with our model output.\n",
    "\n",
    "#pd.concat([test_y, test_X], axis=1).to_csv(os.path.join(data_dir, 'test.csv'), header=False, index=False)\n",
    "pd.DataFrame(test_X).to_csv(os.path.join(data_dir, 'test.csv'), header=False, index=False)\n",
    "#pd.concat([val_y, val_X], axis=1).to_csv(os.path.join(data_dir, 'validation.csv'), header=False, index=False)\n",
    "#pd.concat([train_y, train_X], axis=1).to_csv(os.path.join(data_dir, 'train.csv'), header=False, index=False)"
   ]
  },
  {
   "cell_type": "code",
   "execution_count": 16,
   "metadata": {},
   "outputs": [],
   "source": [
    "# To save a bit of memory we can set text_X, train_X, val_X, train_y and val_y to None.\n",
    "\n",
    "train_X = val_X = train_y = val_y = None"
   ]
  },
  {
   "cell_type": "markdown",
   "metadata": {},
   "source": [
    "### Uploading Training / Validation files to S3\n",
    "\n",
    "Amazon's S3 service allows us to store files that can be access by both the built-in training models such as the XGBoost model we will be using as well as custom models such as the one we will see a little later.\n",
    "\n",
    "For this, and most other tasks we will be doing using SageMaker, there are two methods we could use. The first is to use the low level functionality of SageMaker which requires knowing each of the objects involved in the SageMaker environment. The second is to use the high level functionality in which certain choices have been made on the user's behalf. The low level approach benefits from allowing the user a great deal of flexibility while the high level approach makes development much quicker. For our purposes we will opt to use the high level approach although using the low-level approach is certainly an option.\n",
    "\n",
    "Recall the method `upload_data()` which is a member of object representing our current SageMaker session. What this method does is upload the data to the default bucket (which is created if it does not exist) into the path described by the key_prefix variable. To see this for yourself, once you have uploaded the data files, go to the S3 console and look to see where the files have been uploaded.\n",
    "\n",
    "For additional resources, see the __[SageMaker API documentation](http://sagemaker.readthedocs.io/en/latest/)__ and in addition the __[SageMaker Developer Guide.](https://docs.aws.amazon.com/sagemaker/latest/dg/)__"
   ]
  },
  {
   "cell_type": "code",
   "execution_count": 35,
   "metadata": {},
   "outputs": [],
   "source": [
    "import sagemaker\n",
    "\n",
    "session = sagemaker.Session() # Store the current SageMaker session\n",
    "\n",
    "# S3 prefix (which folder will we use)\n",
    "prefix = 'sentiment-xgboost'\n",
    "\n",
    "test_location = session.upload_data(os.path.join(data_dir, 'test.csv'), key_prefix=prefix)\n",
    "#val_location = session.upload_data(os.path.join(data_dir, 'validation.csv'), key_prefix=prefix)\n",
    "#rain_location = session.upload_data(os.path.join(data_dir, 'train.csv'), key_prefix=prefix)"
   ]
  },
  {
   "cell_type": "markdown",
   "metadata": {},
   "source": [
    "### (TODO) Creating a hypertuned XGBoost model\n",
    "\n",
    "Now that the data has been uploaded it is time to create the XGBoost model. As in the Boston Housing notebook, the first step is to create an estimator object which will be used as the *base* of your hyperparameter tuning job."
   ]
  },
  {
   "cell_type": "code",
   "execution_count": 18,
   "metadata": {},
   "outputs": [],
   "source": [
    "from sagemaker import get_execution_role\n",
    "\n",
    "# Our current execution role is require when creating the model as the training\n",
    "# and inference code will need to access the model artifacts.\n",
    "role = get_execution_role()"
   ]
  },
  {
   "cell_type": "code",
   "execution_count": 19,
   "metadata": {},
   "outputs": [],
   "source": [
    "# We need to retrieve the location of the container which is provided by Amazon for using XGBoost.\n",
    "# As a matter of convenience, the training and inference code both use the same container.\n",
    "from sagemaker.amazon.amazon_estimator import get_image_uri\n",
    "\n",
    "container = get_image_uri(session.boto_region_name, 'xgboost')"
   ]
  },
  {
   "cell_type": "code",
   "execution_count": 20,
   "metadata": {},
   "outputs": [],
   "source": [
    "# TODO: Create a SageMaker estimator using the container location determined in the previous cell.\n",
    "#       It is recommended that you use a single training instance of type ml.m4.xlarge. It is also\n",
    "#       recommended that you use 's3://{}/{}/output'.format(session.default_bucket(), prefix) as the\n",
    "#       output path.\n",
    "\n",
    "xgb = sagemaker.estimator.Estimator(container, # The name of the training container\n",
    "                                    role,      # The IAM role to use (our current role in this case)\n",
    "                                    train_instance_count=1, # The number of instances to use for training\n",
    "                                    train_instance_type='ml.m4.xlarge', # The type of instance ot use for training\n",
    "                                    output_path='s3://{}/{}/output'.format(session.default_bucket(), prefix),\n",
    "                                                                        # Where to save the output (the model artifacts)\n",
    "                                    sagemaker_session=session)\n",
    "\n",
    "# TODO: Set the XGBoost hyperparameters in the xgb object. Don't forget that in this case we have a binary\n",
    "#       label so we should be using the 'binary:logistic' objective.\n",
    "\n",
    "xgb.set_hyperparameters(max_depth=5,\n",
    "                        eta=0.2,\n",
    "                        gamma=4,\n",
    "                        min_child_weight=6,\n",
    "                        subsample=0.8,\n",
    "                        objective='binary:logistic',\n",
    "                        early_stopping_rounds=10,\n",
    "                        num_round=200)\n"
   ]
  },
  {
   "cell_type": "markdown",
   "metadata": {},
   "source": [
    "### (TODO) Create the hyperparameter tuner\n",
    "\n",
    "Now that the base estimator has been set up we need to construct a hyperparameter tuner object which we will use to request SageMaker construct a hyperparameter tuning job.\n",
    "\n",
    "**Note:** Training a single sentiment analysis XGBoost model takes longer than training a Boston Housing XGBoost model so if you don't want the hyperparameter tuning job to take too long, make sure to not set the total number of models (jobs) too high."
   ]
  },
  {
   "cell_type": "code",
   "execution_count": 21,
   "metadata": {},
   "outputs": [],
   "source": [
    "# First, make sure to import the relevant objects used to construct the tuner\n",
    "from sagemaker.tuner import IntegerParameter, ContinuousParameter, HyperparameterTuner\n",
    "\n",
    "# TODO: Create the hyperparameter tuner object\n",
    "\n",
    "xgb_hyperparameter_tuner = HyperparameterTuner(estimator = xgb, # The estimator object to use as the basis for the training jobs.\n",
    "                                               objective_metric_name = 'validation:rmse', # The metric used to compare trained models.\n",
    "                                               objective_type = 'Minimize', # Whether we wish to minimize or maximize the metric.\n",
    "                                               max_jobs = 6, # The total number of models to train\n",
    "                                               max_parallel_jobs = 3, # The number of models to train in parallel\n",
    "                                               hyperparameter_ranges = {\n",
    "                                                    'max_depth': IntegerParameter(3, 12),\n",
    "                                                    'eta'      : ContinuousParameter(0.05, 0.5),\n",
    "                                                    'min_child_weight': IntegerParameter(2, 8),\n",
    "                                                    'subsample': ContinuousParameter(0.5, 0.9),\n",
    "                                                    'gamma': ContinuousParameter(0, 10),\n",
    "                                               })\n",
    "\n"
   ]
  },
  {
   "cell_type": "markdown",
   "metadata": {},
   "source": [
    "### Fit the hyperparameter tuner\n",
    "\n",
    "Now that the hyperparameter tuner object has been constructed, it is time to fit the various models and find the best performing model."
   ]
  },
  {
   "cell_type": "code",
   "execution_count": 22,
   "metadata": {},
   "outputs": [],
   "source": [
    "s3_input_train = sagemaker.s3_input(s3_data=train_location, content_type='csv')\n",
    "s3_input_validation = sagemaker.s3_input(s3_data=val_location, content_type='csv')"
   ]
  },
  {
   "cell_type": "code",
   "execution_count": 23,
   "metadata": {},
   "outputs": [
    {
     "name": "stderr",
     "output_type": "stream",
     "text": [
      "INFO:sagemaker:Creating hyperparameter tuning job with name: xgboost-190203-0154\n"
     ]
    }
   ],
   "source": [
    "xgb_hyperparameter_tuner.fit({'train': s3_input_train, 'validation': s3_input_validation})"
   ]
  },
  {
   "cell_type": "markdown",
   "metadata": {},
   "source": [
    "Remember that the tuning job is constructed and run in the background so if we want to see the progress of our training job we need to call the `wait()` method."
   ]
  },
  {
   "cell_type": "code",
   "execution_count": 24,
   "metadata": {},
   "outputs": [
    {
     "name": "stdout",
     "output_type": "stream",
     "text": [
      "............................................................................................................................................................................................................................................................................................................................!\n"
     ]
    }
   ],
   "source": [
    "xgb_hyperparameter_tuner.wait()"
   ]
  },
  {
   "cell_type": "markdown",
   "metadata": {},
   "source": [
    "### (TODO) Testing the model\n",
    "\n",
    "Now that we've run our hyperparameter tuning job, it's time to see how well the best performing model actually performs. To do this we will use SageMaker's Batch Transform functionality. Batch Transform is a convenient way to perform inference on a large dataset in a way that is not realtime. That is, we don't necessarily need to use our model's results immediately and instead we can peform inference on a large number of samples. An example of this in industry might be peforming an end of month report. This method of inference can also be useful to us as it means to can perform inference on our entire test set. \n",
    "\n",
    "Remember that in order to create a transformer object to perform the batch transform job, we need a trained estimator object. We can do that using the `attach()` method, creating an estimator object which is attached to the best trained job."
   ]
  },
  {
   "cell_type": "code",
   "execution_count": 25,
   "metadata": {},
   "outputs": [
    {
     "name": "stdout",
     "output_type": "stream",
     "text": [
      "2019-02-03 02:18:35 Starting - Preparing the instances for training\n",
      "2019-02-03 02:18:35 Downloading - Downloading input data\n",
      "2019-02-03 02:18:35 Training - Training image download completed. Training in progress.\n",
      "2019-02-03 02:18:35 Uploading - Uploading generated training model\n",
      "2019-02-03 02:18:35 Completed - Training job completed\u001b[31mArguments: train\u001b[0m\n",
      "\u001b[31m[2019-02-03:02:08:21:INFO] Running standalone xgboost training.\u001b[0m\n",
      "\u001b[31m[2019-02-03:02:08:21:INFO] Setting up HPO optimized metric to be : rmse\u001b[0m\n",
      "\u001b[31m[2019-02-03:02:08:21:INFO] File size need to be processed in the node: 238.47mb. Available memory size in the node: 8405.97mb\u001b[0m\n",
      "\u001b[31m[2019-02-03:02:08:21:INFO] Determined delimiter of CSV input is ','\u001b[0m\n",
      "\u001b[31m[02:08:21] S3DistributionType set as FullyReplicated\u001b[0m\n",
      "\u001b[31m[02:08:23] 15000x5000 matrix with 75000000 entries loaded from /opt/ml/input/data/train?format=csv&label_column=0&delimiter=,\u001b[0m\n",
      "\u001b[31m[2019-02-03:02:08:23:INFO] Determined delimiter of CSV input is ','\u001b[0m\n",
      "\u001b[31m[02:08:23] S3DistributionType set as FullyReplicated\u001b[0m\n",
      "\u001b[31m[02:08:24] 10000x5000 matrix with 50000000 entries loaded from /opt/ml/input/data/validation?format=csv&label_column=0&delimiter=,\u001b[0m\n",
      "\u001b[31m[02:08:30] src/tree/updater_prune.cc:74: tree pruning end, 1 roots, 80 extra nodes, 60 pruned nodes, max_depth=10\u001b[0m\n",
      "\u001b[31m[0]#011train-rmse:0.476002#011validation-rmse:0.477629\u001b[0m\n",
      "\u001b[31mMultiple eval metrics have been passed: 'validation-rmse' will be used for early stopping.\n",
      "\u001b[0m\n",
      "\u001b[31mWill train until validation-rmse hasn't improved in 10 rounds.\u001b[0m\n",
      "\u001b[31m[02:08:33] src/tree/updater_prune.cc:74: tree pruning end, 1 roots, 80 extra nodes, 52 pruned nodes, max_depth=10\u001b[0m\n",
      "\u001b[31m[1]#011train-rmse:0.457806#011validation-rmse:0.460947\u001b[0m\n",
      "\u001b[31m[02:08:36] src/tree/updater_prune.cc:74: tree pruning end, 1 roots, 70 extra nodes, 82 pruned nodes, max_depth=10\u001b[0m\n",
      "\u001b[31m[2]#011train-rmse:0.443863#011validation-rmse:0.448059\u001b[0m\n",
      "\u001b[31m[02:08:39] src/tree/updater_prune.cc:74: tree pruning end, 1 roots, 58 extra nodes, 70 pruned nodes, max_depth=10\u001b[0m\n",
      "\u001b[31m[3]#011train-rmse:0.432862#011validation-rmse:0.438238\u001b[0m\n",
      "\u001b[31m[02:08:42] src/tree/updater_prune.cc:74: tree pruning end, 1 roots, 60 extra nodes, 76 pruned nodes, max_depth=10\u001b[0m\n",
      "\u001b[31m[4]#011train-rmse:0.423518#011validation-rmse:0.430006\u001b[0m\n",
      "\u001b[31m[02:08:45] src/tree/updater_prune.cc:74: tree pruning end, 1 roots, 60 extra nodes, 72 pruned nodes, max_depth=10\u001b[0m\n",
      "\u001b[31m[5]#011train-rmse:0.415902#011validation-rmse:0.423217\u001b[0m\n",
      "\u001b[31m[02:08:48] src/tree/updater_prune.cc:74: tree pruning end, 1 roots, 48 extra nodes, 58 pruned nodes, max_depth=10\u001b[0m\n",
      "\u001b[31m[6]#011train-rmse:0.40879#011validation-rmse:0.417211\u001b[0m\n",
      "\u001b[31m[02:08:51] src/tree/updater_prune.cc:74: tree pruning end, 1 roots, 48 extra nodes, 84 pruned nodes, max_depth=10\u001b[0m\n",
      "\u001b[31m[7]#011train-rmse:0.402918#011validation-rmse:0.412432\u001b[0m\n",
      "\u001b[31m[02:08:54] src/tree/updater_prune.cc:74: tree pruning end, 1 roots, 54 extra nodes, 84 pruned nodes, max_depth=10\u001b[0m\n",
      "\u001b[31m[8]#011train-rmse:0.39729#011validation-rmse:0.408141\u001b[0m\n",
      "\u001b[31m[02:08:57] src/tree/updater_prune.cc:74: tree pruning end, 1 roots, 40 extra nodes, 62 pruned nodes, max_depth=10\u001b[0m\n",
      "\u001b[31m[9]#011train-rmse:0.392411#011validation-rmse:0.404051\u001b[0m\n",
      "\u001b[31m[02:09:00] src/tree/updater_prune.cc:74: tree pruning end, 1 roots, 38 extra nodes, 48 pruned nodes, max_depth=10\u001b[0m\n",
      "\u001b[31m[10]#011train-rmse:0.387407#011validation-rmse:0.399577\u001b[0m\n",
      "\u001b[31m[02:09:03] src/tree/updater_prune.cc:74: tree pruning end, 1 roots, 46 extra nodes, 72 pruned nodes, max_depth=10\u001b[0m\n",
      "\u001b[31m[11]#011train-rmse:0.383115#011validation-rmse:0.395964\u001b[0m\n",
      "\u001b[31m[02:09:06] src/tree/updater_prune.cc:74: tree pruning end, 1 roots, 42 extra nodes, 56 pruned nodes, max_depth=10\u001b[0m\n",
      "\u001b[31m[12]#011train-rmse:0.37894#011validation-rmse:0.392363\u001b[0m\n",
      "\u001b[31m[02:09:09] src/tree/updater_prune.cc:74: tree pruning end, 1 roots, 46 extra nodes, 66 pruned nodes, max_depth=10\u001b[0m\n",
      "\u001b[31m[13]#011train-rmse:0.375259#011validation-rmse:0.389518\u001b[0m\n",
      "\u001b[31m[02:09:12] src/tree/updater_prune.cc:74: tree pruning end, 1 roots, 42 extra nodes, 48 pruned nodes, max_depth=10\u001b[0m\n",
      "\u001b[31m[14]#011train-rmse:0.371328#011validation-rmse:0.386233\u001b[0m\n",
      "\u001b[31m[02:09:15] src/tree/updater_prune.cc:74: tree pruning end, 1 roots, 44 extra nodes, 66 pruned nodes, max_depth=10\u001b[0m\n",
      "\u001b[31m[15]#011train-rmse:0.367664#011validation-rmse:0.3834\u001b[0m\n",
      "\u001b[31m[02:09:18] src/tree/updater_prune.cc:74: tree pruning end, 1 roots, 36 extra nodes, 44 pruned nodes, max_depth=10\u001b[0m\n",
      "\u001b[31m[16]#011train-rmse:0.364416#011validation-rmse:0.380976\u001b[0m\n",
      "\u001b[31m[02:09:21] src/tree/updater_prune.cc:74: tree pruning end, 1 roots, 26 extra nodes, 60 pruned nodes, max_depth=10\u001b[0m\n",
      "\u001b[31m[17]#011train-rmse:0.361595#011validation-rmse:0.378892\u001b[0m\n",
      "\u001b[31m[02:09:24] src/tree/updater_prune.cc:74: tree pruning end, 1 roots, 40 extra nodes, 90 pruned nodes, max_depth=10\u001b[0m\n",
      "\u001b[31m[18]#011train-rmse:0.358937#011validation-rmse:0.377125\u001b[0m\n",
      "\u001b[31m[02:09:27] src/tree/updater_prune.cc:74: tree pruning end, 1 roots, 32 extra nodes, 48 pruned nodes, max_depth=10\u001b[0m\n",
      "\u001b[31m[19]#011train-rmse:0.356425#011validation-rmse:0.374825\u001b[0m\n",
      "\u001b[31m[02:09:30] src/tree/updater_prune.cc:74: tree pruning end, 1 roots, 34 extra nodes, 60 pruned nodes, max_depth=10\u001b[0m\n",
      "\u001b[31m[20]#011train-rmse:0.353926#011validation-rmse:0.373037\u001b[0m\n",
      "\u001b[31m[02:09:33] src/tree/updater_prune.cc:74: tree pruning end, 1 roots, 36 extra nodes, 80 pruned nodes, max_depth=10\u001b[0m\n",
      "\u001b[31m[21]#011train-rmse:0.351462#011validation-rmse:0.371224\u001b[0m\n",
      "\u001b[31m[02:09:36] src/tree/updater_prune.cc:74: tree pruning end, 1 roots, 32 extra nodes, 48 pruned nodes, max_depth=10\u001b[0m\n",
      "\u001b[31m[22]#011train-rmse:0.349104#011validation-rmse:0.369326\u001b[0m\n",
      "\u001b[31m[02:09:39] src/tree/updater_prune.cc:74: tree pruning end, 1 roots, 24 extra nodes, 50 pruned nodes, max_depth=10\u001b[0m\n",
      "\u001b[31m[23]#011train-rmse:0.34699#011validation-rmse:0.367549\u001b[0m\n",
      "\u001b[31m[02:09:42] src/tree/updater_prune.cc:74: tree pruning end, 1 roots, 28 extra nodes, 58 pruned nodes, max_depth=10\u001b[0m\n",
      "\u001b[31m[24]#011train-rmse:0.345021#011validation-rmse:0.366161\u001b[0m\n",
      "\u001b[31m[02:09:45] src/tree/updater_prune.cc:74: tree pruning end, 1 roots, 56 extra nodes, 96 pruned nodes, max_depth=10\u001b[0m\n",
      "\u001b[31m[25]#011train-rmse:0.342394#011validation-rmse:0.364681\u001b[0m\n",
      "\u001b[31m[02:09:48] src/tree/updater_prune.cc:74: tree pruning end, 1 roots, 40 extra nodes, 36 pruned nodes, max_depth=10\u001b[0m\n",
      "\u001b[31m[26]#011train-rmse:0.340332#011validation-rmse:0.363251\u001b[0m\n",
      "\u001b[31m[02:09:51] src/tree/updater_prune.cc:74: tree pruning end, 1 roots, 26 extra nodes, 58 pruned nodes, max_depth=10\u001b[0m\n",
      "\u001b[31m[27]#011train-rmse:0.338579#011validation-rmse:0.362066\u001b[0m\n",
      "\u001b[31m[02:09:54] src/tree/updater_prune.cc:74: tree pruning end, 1 roots, 20 extra nodes, 42 pruned nodes, max_depth=10\u001b[0m\n",
      "\u001b[31m[28]#011train-rmse:0.337041#011validation-rmse:0.360573\u001b[0m\n",
      "\u001b[31m[02:09:56] src/tree/updater_prune.cc:74: tree pruning end, 1 roots, 30 extra nodes, 36 pruned nodes, max_depth=10\u001b[0m\n",
      "\u001b[31m[29]#011train-rmse:0.335104#011validation-rmse:0.359173\u001b[0m\n",
      "\u001b[31m[02:09:59] src/tree/updater_prune.cc:74: tree pruning end, 1 roots, 32 extra nodes, 94 pruned nodes, max_depth=10\u001b[0m\n",
      "\u001b[31m[30]#011train-rmse:0.333563#011validation-rmse:0.358176\u001b[0m\n",
      "\u001b[31m[02:10:02] src/tree/updater_prune.cc:74: tree pruning end, 1 roots, 24 extra nodes, 50 pruned nodes, max_depth=10\u001b[0m\n",
      "\u001b[31m[31]#011train-rmse:0.33204#011validation-rmse:0.357219\u001b[0m\n",
      "\u001b[31m[02:10:05] src/tree/updater_prune.cc:74: tree pruning end, 1 roots, 30 extra nodes, 50 pruned nodes, max_depth=10\u001b[0m\n",
      "\u001b[31m[32]#011train-rmse:0.330374#011validation-rmse:0.355812\u001b[0m\n",
      "\u001b[31m[02:10:08] src/tree/updater_prune.cc:74: tree pruning end, 1 roots, 32 extra nodes, 32 pruned nodes, max_depth=10\u001b[0m\n",
      "\u001b[31m[33]#011train-rmse:0.328539#011validation-rmse:0.354619\u001b[0m\n",
      "\u001b[31m[02:10:11] src/tree/updater_prune.cc:74: tree pruning end, 1 roots, 22 extra nodes, 64 pruned nodes, max_depth=10\u001b[0m\n",
      "\u001b[31m[34]#011train-rmse:0.327261#011validation-rmse:0.353709\u001b[0m\n",
      "\u001b[31m[02:10:14] src/tree/updater_prune.cc:74: tree pruning end, 1 roots, 30 extra nodes, 38 pruned nodes, max_depth=10\u001b[0m\n",
      "\u001b[31m[35]#011train-rmse:0.326014#011validation-rmse:0.352954\u001b[0m\n",
      "\u001b[31m[02:10:17] src/tree/updater_prune.cc:74: tree pruning end, 1 roots, 22 extra nodes, 34 pruned nodes, max_depth=10\u001b[0m\n",
      "\u001b[31m[36]#011train-rmse:0.324804#011validation-rmse:0.352161\u001b[0m\n",
      "\u001b[31m[02:10:20] src/tree/updater_prune.cc:74: tree pruning end, 1 roots, 40 extra nodes, 22 pruned nodes, max_depth=10\u001b[0m\n",
      "\u001b[31m[37]#011train-rmse:0.323047#011validation-rmse:0.35138\u001b[0m\n",
      "\u001b[31m[02:10:23] src/tree/updater_prune.cc:74: tree pruning end, 1 roots, 32 extra nodes, 78 pruned nodes, max_depth=10\u001b[0m\n",
      "\u001b[31m[38]#011train-rmse:0.321579#011validation-rmse:0.35039\u001b[0m\n",
      "\u001b[31m[02:10:26] src/tree/updater_prune.cc:74: tree pruning end, 1 roots, 32 extra nodes, 58 pruned nodes, max_depth=10\u001b[0m\n",
      "\u001b[31m[39]#011train-rmse:0.320104#011validation-rmse:0.349502\u001b[0m\n",
      "\u001b[31m[02:10:29] src/tree/updater_prune.cc:74: tree pruning end, 1 roots, 20 extra nodes, 30 pruned nodes, max_depth=10\u001b[0m\n",
      "\u001b[31m[40]#011train-rmse:0.318981#011validation-rmse:0.348711\u001b[0m\n",
      "\u001b[31m[02:10:32] src/tree/updater_prune.cc:74: tree pruning end, 1 roots, 22 extra nodes, 28 pruned nodes, max_depth=10\u001b[0m\n",
      "\u001b[31m[41]#011train-rmse:0.317748#011validation-rmse:0.347721\u001b[0m\n",
      "\u001b[31m[02:10:35] src/tree/updater_prune.cc:74: tree pruning end, 1 roots, 20 extra nodes, 54 pruned nodes, max_depth=10\u001b[0m\n",
      "\u001b[31m[42]#011train-rmse:0.316731#011validation-rmse:0.347006\u001b[0m\n",
      "\u001b[31m[02:10:38] src/tree/updater_prune.cc:74: tree pruning end, 1 roots, 22 extra nodes, 52 pruned nodes, max_depth=10\u001b[0m\n",
      "\u001b[31m[43]#011train-rmse:0.315523#011validation-rmse:0.34618\u001b[0m\n",
      "\u001b[31m[02:10:41] src/tree/updater_prune.cc:74: tree pruning end, 1 roots, 22 extra nodes, 62 pruned nodes, max_depth=10\u001b[0m\n",
      "\u001b[31m[44]#011train-rmse:0.314432#011validation-rmse:0.345226\u001b[0m\n",
      "\u001b[31m[02:10:44] src/tree/updater_prune.cc:74: tree pruning end, 1 roots, 24 extra nodes, 50 pruned nodes, max_depth=10\u001b[0m\n",
      "\u001b[31m[45]#011train-rmse:0.313352#011validation-rmse:0.344504\u001b[0m\n",
      "\u001b[31m[02:10:47] src/tree/updater_prune.cc:74: tree pruning end, 1 roots, 26 extra nodes, 24 pruned nodes, max_depth=10\u001b[0m\n",
      "\u001b[31m[46]#011train-rmse:0.312241#011validation-rmse:0.343857\u001b[0m\n",
      "\u001b[31m[02:10:50] src/tree/updater_prune.cc:74: tree pruning end, 1 roots, 28 extra nodes, 40 pruned nodes, max_depth=10\u001b[0m\n",
      "\u001b[31m[47]#011train-rmse:0.311109#011validation-rmse:0.343028\u001b[0m\n",
      "\u001b[31m[02:10:53] src/tree/updater_prune.cc:74: tree pruning end, 1 roots, 28 extra nodes, 76 pruned nodes, max_depth=10\u001b[0m\n",
      "\u001b[31m[48]#011train-rmse:0.309976#011validation-rmse:0.342384\u001b[0m\n",
      "\u001b[31m[02:10:56] src/tree/updater_prune.cc:74: tree pruning end, 1 roots, 22 extra nodes, 50 pruned nodes, max_depth=10\u001b[0m\n",
      "\u001b[31m[49]#011train-rmse:0.308913#011validation-rmse:0.341567\u001b[0m\n",
      "\u001b[31m[02:10:59] src/tree/updater_prune.cc:74: tree pruning end, 1 roots, 20 extra nodes, 26 pruned nodes, max_depth=10\u001b[0m\n",
      "\u001b[31m[50]#011train-rmse:0.3081#011validation-rmse:0.340957\u001b[0m\n",
      "\u001b[31m[02:11:02] src/tree/updater_prune.cc:74: tree pruning end, 1 roots, 20 extra nodes, 54 pruned nodes, max_depth=10\u001b[0m\n",
      "\u001b[31m[51]#011train-rmse:0.307287#011validation-rmse:0.340561\u001b[0m\n",
      "\u001b[31m[02:11:05] src/tree/updater_prune.cc:74: tree pruning end, 1 roots, 26 extra nodes, 36 pruned nodes, max_depth=10\u001b[0m\n",
      "\u001b[31m[52]#011train-rmse:0.30644#011validation-rmse:0.340161\u001b[0m\n",
      "\u001b[31m[02:11:08] src/tree/updater_prune.cc:74: tree pruning end, 1 roots, 22 extra nodes, 62 pruned nodes, max_depth=10\u001b[0m\n",
      "\u001b[31m[53]#011train-rmse:0.30554#011validation-rmse:0.339637\u001b[0m\n",
      "\u001b[31m[02:11:11] src/tree/updater_prune.cc:74: tree pruning end, 1 roots, 22 extra nodes, 32 pruned nodes, max_depth=10\u001b[0m\n",
      "\u001b[31m[54]#011train-rmse:0.30469#011validation-rmse:0.339046\u001b[0m\n",
      "\u001b[31m[02:11:14] src/tree/updater_prune.cc:74: tree pruning end, 1 roots, 20 extra nodes, 60 pruned nodes, max_depth=10\u001b[0m\n",
      "\u001b[31m[55]#011train-rmse:0.303918#011validation-rmse:0.338399\u001b[0m\n",
      "\u001b[31m[02:11:17] src/tree/updater_prune.cc:74: tree pruning end, 1 roots, 24 extra nodes, 24 pruned nodes, max_depth=10\u001b[0m\n",
      "\u001b[31m[56]#011train-rmse:0.303149#011validation-rmse:0.337959\u001b[0m\n",
      "\u001b[31m[02:11:20] src/tree/updater_prune.cc:74: tree pruning end, 1 roots, 22 extra nodes, 42 pruned nodes, max_depth=10\u001b[0m\n",
      "\u001b[31m[57]#011train-rmse:0.302323#011validation-rmse:0.337494\u001b[0m\n",
      "\u001b[31m[02:11:23] src/tree/updater_prune.cc:74: tree pruning end, 1 roots, 22 extra nodes, 38 pruned nodes, max_depth=10\u001b[0m\n",
      "\u001b[31m[58]#011train-rmse:0.30151#011validation-rmse:0.33684\u001b[0m\n",
      "\u001b[31m[02:11:26] src/tree/updater_prune.cc:74: tree pruning end, 1 roots, 22 extra nodes, 42 pruned nodes, max_depth=10\u001b[0m\n",
      "\u001b[31m[59]#011train-rmse:0.300859#011validation-rmse:0.336289\u001b[0m\n",
      "\u001b[31m[02:11:29] src/tree/updater_prune.cc:74: tree pruning end, 1 roots, 20 extra nodes, 66 pruned nodes, max_depth=10\u001b[0m\n",
      "\u001b[31m[60]#011train-rmse:0.300152#011validation-rmse:0.335667\u001b[0m\n",
      "\u001b[31m[02:11:32] src/tree/updater_prune.cc:74: tree pruning end, 1 roots, 22 extra nodes, 56 pruned nodes, max_depth=10\u001b[0m\n",
      "\u001b[31m[61]#011train-rmse:0.299299#011validation-rmse:0.335247\u001b[0m\n",
      "\u001b[31m[02:11:34] src/tree/updater_prune.cc:74: tree pruning end, 1 roots, 20 extra nodes, 28 pruned nodes, max_depth=10\u001b[0m\n",
      "\u001b[31m[62]#011train-rmse:0.298694#011validation-rmse:0.335016\u001b[0m\n",
      "\u001b[31m[02:11:37] src/tree/updater_prune.cc:74: tree pruning end, 1 roots, 20 extra nodes, 54 pruned nodes, max_depth=10\u001b[0m\n",
      "\u001b[31m[63]#011train-rmse:0.298011#011validation-rmse:0.334594\u001b[0m\n",
      "\u001b[31m[02:11:40] src/tree/updater_prune.cc:74: tree pruning end, 1 roots, 24 extra nodes, 46 pruned nodes, max_depth=10\u001b[0m\n",
      "\u001b[31m[64]#011train-rmse:0.297324#011validation-rmse:0.334333\u001b[0m\n",
      "\u001b[31m[02:11:43] src/tree/updater_prune.cc:74: tree pruning end, 1 roots, 34 extra nodes, 64 pruned nodes, max_depth=10\u001b[0m\n",
      "\u001b[31m[65]#011train-rmse:0.29642#011validation-rmse:0.333933\u001b[0m\n",
      "\u001b[31m[02:11:46] src/tree/updater_prune.cc:74: tree pruning end, 1 roots, 24 extra nodes, 88 pruned nodes, max_depth=10\u001b[0m\n",
      "\u001b[31m[66]#011train-rmse:0.295537#011validation-rmse:0.333483\u001b[0m\n",
      "\u001b[31m[02:11:49] src/tree/updater_prune.cc:74: tree pruning end, 1 roots, 20 extra nodes, 12 pruned nodes, max_depth=10\u001b[0m\n",
      "\u001b[31m[67]#011train-rmse:0.294856#011validation-rmse:0.332905\u001b[0m\n",
      "\u001b[31m[02:11:52] src/tree/updater_prune.cc:74: tree pruning end, 1 roots, 20 extra nodes, 38 pruned nodes, max_depth=10\u001b[0m\n",
      "\u001b[31m[68]#011train-rmse:0.294173#011validation-rmse:0.332284\u001b[0m\n",
      "\u001b[31m[02:11:55] src/tree/updater_prune.cc:74: tree pruning end, 1 roots, 20 extra nodes, 58 pruned nodes, max_depth=10\u001b[0m\n",
      "\u001b[31m[69]#011train-rmse:0.293435#011validation-rmse:0.331879\u001b[0m\n",
      "\u001b[31m[02:11:58] src/tree/updater_prune.cc:74: tree pruning end, 1 roots, 24 extra nodes, 50 pruned nodes, max_depth=10\u001b[0m\n",
      "\u001b[31m[70]#011train-rmse:0.292683#011validation-rmse:0.331354\u001b[0m\n",
      "\u001b[31m[02:12:01] src/tree/updater_prune.cc:74: tree pruning end, 1 roots, 22 extra nodes, 32 pruned nodes, max_depth=10\u001b[0m\n",
      "\u001b[31m[71]#011train-rmse:0.292007#011validation-rmse:0.33088\u001b[0m\n",
      "\u001b[31m[02:12:04] src/tree/updater_prune.cc:74: tree pruning end, 1 roots, 20 extra nodes, 40 pruned nodes, max_depth=10\u001b[0m\n",
      "\u001b[31m[72]#011train-rmse:0.291473#011validation-rmse:0.330525\u001b[0m\n",
      "\u001b[31m[02:12:07] src/tree/updater_prune.cc:74: tree pruning end, 1 roots, 20 extra nodes, 34 pruned nodes, max_depth=10\u001b[0m\n",
      "\u001b[31m[73]#011train-rmse:0.290847#011validation-rmse:0.33024\u001b[0m\n",
      "\u001b[31m[02:12:10] src/tree/updater_prune.cc:74: tree pruning end, 1 roots, 20 extra nodes, 54 pruned nodes, max_depth=10\u001b[0m\n",
      "\u001b[31m[74]#011train-rmse:0.290172#011validation-rmse:0.330099\u001b[0m\n",
      "\u001b[31m[02:12:13] src/tree/updater_prune.cc:74: tree pruning end, 1 roots, 20 extra nodes, 10 pruned nodes, max_depth=10\u001b[0m\n",
      "\u001b[31m[75]#011train-rmse:0.289578#011validation-rmse:0.329653\u001b[0m\n",
      "\u001b[31m[02:12:16] src/tree/updater_prune.cc:74: tree pruning end, 1 roots, 24 extra nodes, 12 pruned nodes, max_depth=10\u001b[0m\n",
      "\u001b[31m[76]#011train-rmse:0.288861#011validation-rmse:0.329512\u001b[0m\n",
      "\u001b[31m[02:12:19] src/tree/updater_prune.cc:74: tree pruning end, 1 roots, 20 extra nodes, 10 pruned nodes, max_depth=10\u001b[0m\n",
      "\u001b[31m[77]#011train-rmse:0.288267#011validation-rmse:0.329134\u001b[0m\n",
      "\u001b[31m[02:12:22] src/tree/updater_prune.cc:74: tree pruning end, 1 roots, 20 extra nodes, 16 pruned nodes, max_depth=10\u001b[0m\n",
      "\u001b[31m[78]#011train-rmse:0.287669#011validation-rmse:0.328676\u001b[0m\n",
      "\u001b[31m[02:12:25] src/tree/updater_prune.cc:74: tree pruning end, 1 roots, 20 extra nodes, 30 pruned nodes, max_depth=10\u001b[0m\n",
      "\u001b[31m[79]#011train-rmse:0.287157#011validation-rmse:0.328298\u001b[0m\n",
      "\u001b[31m[02:12:28] src/tree/updater_prune.cc:74: tree pruning end, 1 roots, 16 extra nodes, 24 pruned nodes, max_depth=8\u001b[0m\n",
      "\u001b[31m[80]#011train-rmse:0.286682#011validation-rmse:0.328048\u001b[0m\n",
      "\u001b[31m[02:12:31] src/tree/updater_prune.cc:74: tree pruning end, 1 roots, 24 extra nodes, 60 pruned nodes, max_depth=7\u001b[0m\n",
      "\u001b[31m[81]#011train-rmse:0.285995#011validation-rmse:0.327749\u001b[0m\n",
      "\u001b[31m[02:12:34] src/tree/updater_prune.cc:74: tree pruning end, 1 roots, 16 extra nodes, 44 pruned nodes, max_depth=8\u001b[0m\n",
      "\u001b[31m[82]#011train-rmse:0.285503#011validation-rmse:0.327334\u001b[0m\n",
      "\u001b[31m[02:12:37] src/tree/updater_prune.cc:74: tree pruning end, 1 roots, 20 extra nodes, 36 pruned nodes, max_depth=10\u001b[0m\n",
      "\u001b[31m[83]#011train-rmse:0.284997#011validation-rmse:0.32686\u001b[0m\n",
      "\u001b[31m[02:12:40] src/tree/updater_prune.cc:74: tree pruning end, 1 roots, 18 extra nodes, 50 pruned nodes, max_depth=9\u001b[0m\n",
      "\u001b[31m[84]#011train-rmse:0.284388#011validation-rmse:0.326497\u001b[0m\n",
      "\u001b[31m[02:12:43] src/tree/updater_prune.cc:74: tree pruning end, 1 roots, 22 extra nodes, 28 pruned nodes, max_depth=9\u001b[0m\n",
      "\u001b[31m[85]#011train-rmse:0.283811#011validation-rmse:0.326407\u001b[0m\n",
      "\u001b[31m[02:12:46] src/tree/updater_prune.cc:74: tree pruning end, 1 roots, 18 extra nodes, 46 pruned nodes, max_depth=9\u001b[0m\n",
      "\u001b[31m[86]#011train-rmse:0.283396#011validation-rmse:0.326052\u001b[0m\n",
      "\u001b[31m[02:12:49] src/tree/updater_prune.cc:74: tree pruning end, 1 roots, 16 extra nodes, 36 pruned nodes, max_depth=8\u001b[0m\n",
      "\u001b[31m[87]#011train-rmse:0.282891#011validation-rmse:0.325791\u001b[0m\n",
      "\u001b[31m[02:12:52] src/tree/updater_prune.cc:74: tree pruning end, 1 roots, 22 extra nodes, 34 pruned nodes, max_depth=10\u001b[0m\n",
      "\u001b[31m[88]#011train-rmse:0.282286#011validation-rmse:0.325511\u001b[0m\n",
      "\u001b[31m[02:12:55] src/tree/updater_prune.cc:74: tree pruning end, 1 roots, 16 extra nodes, 44 pruned nodes, max_depth=8\u001b[0m\n",
      "\u001b[31m[89]#011train-rmse:0.281805#011validation-rmse:0.325385\u001b[0m\n",
      "\u001b[31m[02:12:58] src/tree/updater_prune.cc:74: tree pruning end, 1 roots, 12 extra nodes, 44 pruned nodes, max_depth=6\u001b[0m\n",
      "\u001b[31m[90]#011train-rmse:0.281531#011validation-rmse:0.325175\u001b[0m\n",
      "\u001b[31m[02:13:01] src/tree/updater_prune.cc:74: tree pruning end, 1 roots, 20 extra nodes, 50 pruned nodes, max_depth=10\u001b[0m\n",
      "\u001b[31m[91]#011train-rmse:0.28104#011validation-rmse:0.325031\u001b[0m\n",
      "\u001b[31m[02:13:04] src/tree/updater_prune.cc:74: tree pruning end, 1 roots, 16 extra nodes, 56 pruned nodes, max_depth=8\u001b[0m\n",
      "\u001b[31m[92]#011train-rmse:0.280539#011validation-rmse:0.324759\u001b[0m\n",
      "\u001b[31m[02:13:07] src/tree/updater_prune.cc:74: tree pruning end, 1 roots, 14 extra nodes, 38 pruned nodes, max_depth=7\u001b[0m\n",
      "\u001b[31m[93]#011train-rmse:0.280178#011validation-rmse:0.324429\u001b[0m\n",
      "\u001b[31m[02:13:09] src/tree/updater_prune.cc:74: tree pruning end, 1 roots, 8 extra nodes, 50 pruned nodes, max_depth=4\u001b[0m\n",
      "\u001b[31m[94]#011train-rmse:0.280023#011validation-rmse:0.324353\u001b[0m\n",
      "\u001b[31m[02:13:12] src/tree/updater_prune.cc:74: tree pruning end, 1 roots, 8 extra nodes, 24 pruned nodes, max_depth=4\u001b[0m\n",
      "\u001b[31m[95]#011train-rmse:0.279807#011validation-rmse:0.324237\u001b[0m\n",
      "\u001b[31m[02:13:15] src/tree/updater_prune.cc:74: tree pruning end, 1 roots, 16 extra nodes, 64 pruned nodes, max_depth=8\u001b[0m\n",
      "\u001b[31m[96]#011train-rmse:0.279456#011validation-rmse:0.324008\u001b[0m\n",
      "\u001b[31m[02:13:18] src/tree/updater_prune.cc:74: tree pruning end, 1 roots, 16 extra nodes, 30 pruned nodes, max_depth=7\u001b[0m\n",
      "\u001b[31m[97]#011train-rmse:0.279102#011validation-rmse:0.323981\u001b[0m\n",
      "\u001b[31m[02:13:21] src/tree/updater_prune.cc:74: tree pruning end, 1 roots, 4 extra nodes, 64 pruned nodes, max_depth=2\u001b[0m\n",
      "\u001b[31m[98]#011train-rmse:0.278978#011validation-rmse:0.323981\u001b[0m\n",
      "\u001b[31m[02:13:24] src/tree/updater_prune.cc:74: tree pruning end, 1 roots, 16 extra nodes, 44 pruned nodes, max_depth=7\u001b[0m\n",
      "\u001b[31m[99]#011train-rmse:0.278596#011validation-rmse:0.324011\u001b[0m\n",
      "\u001b[31m[02:13:27] src/tree/updater_prune.cc:74: tree pruning end, 1 roots, 20 extra nodes, 18 pruned nodes, max_depth=10\u001b[0m\n",
      "\u001b[31m[100]#011train-rmse:0.278203#011validation-rmse:0.323781\u001b[0m\n",
      "\u001b[31m[02:13:30] src/tree/updater_prune.cc:74: tree pruning end, 1 roots, 12 extra nodes, 28 pruned nodes, max_depth=5\u001b[0m\n",
      "\u001b[31m[101]#011train-rmse:0.277848#011validation-rmse:0.323528\u001b[0m\n",
      "\u001b[31m[02:13:33] src/tree/updater_prune.cc:74: tree pruning end, 1 roots, 20 extra nodes, 38 pruned nodes, max_depth=10\u001b[0m\n",
      "\u001b[31m[102]#011train-rmse:0.277361#011validation-rmse:0.323272\u001b[0m\n",
      "\u001b[31m[02:13:36] src/tree/updater_prune.cc:74: tree pruning end, 1 roots, 18 extra nodes, 60 pruned nodes, max_depth=8\u001b[0m\n",
      "\u001b[31m[103]#011train-rmse:0.276999#011validation-rmse:0.323157\u001b[0m\n",
      "\u001b[31m[02:13:39] src/tree/updater_prune.cc:74: tree pruning end, 1 roots, 14 extra nodes, 40 pruned nodes, max_depth=7\u001b[0m\n",
      "\u001b[31m[104]#011train-rmse:0.276566#011validation-rmse:0.322712\u001b[0m\n",
      "\u001b[31m[02:13:42] src/tree/updater_prune.cc:74: tree pruning end, 1 roots, 14 extra nodes, 28 pruned nodes, max_depth=7\u001b[0m\n",
      "\u001b[31m[105]#011train-rmse:0.276219#011validation-rmse:0.322676\u001b[0m\n",
      "\u001b[31m[02:13:45] src/tree/updater_prune.cc:74: tree pruning end, 1 roots, 18 extra nodes, 38 pruned nodes, max_depth=9\u001b[0m\n",
      "\u001b[31m[106]#011train-rmse:0.275841#011validation-rmse:0.322414\u001b[0m\n",
      "\u001b[31m[02:13:48] src/tree/updater_prune.cc:74: tree pruning end, 1 roots, 2 extra nodes, 44 pruned nodes, max_depth=1\u001b[0m\n",
      "\u001b[31m[107]#011train-rmse:0.275781#011validation-rmse:0.322368\u001b[0m\n",
      "\u001b[31m[02:13:51] src/tree/updater_prune.cc:74: tree pruning end, 1 roots, 20 extra nodes, 34 pruned nodes, max_depth=10\u001b[0m\n",
      "\u001b[31m[108]#011train-rmse:0.275221#011validation-rmse:0.321956\u001b[0m\n",
      "\u001b[31m[02:13:54] src/tree/updater_prune.cc:74: tree pruning end, 1 roots, 18 extra nodes, 70 pruned nodes, max_depth=9\u001b[0m\n",
      "\u001b[31m[109]#011train-rmse:0.274762#011validation-rmse:0.321774\u001b[0m\n",
      "\u001b[31m[02:13:57] src/tree/updater_prune.cc:74: tree pruning end, 1 roots, 8 extra nodes, 56 pruned nodes, max_depth=4\u001b[0m\n",
      "\u001b[31m[110]#011train-rmse:0.27457#011validation-rmse:0.321664\u001b[0m\n",
      "\u001b[31m[02:14:00] src/tree/updater_prune.cc:74: tree pruning end, 1 roots, 0 extra nodes, 70 pruned nodes, max_depth=0\u001b[0m\n",
      "\u001b[31m[111]#011train-rmse:0.274573#011validation-rmse:0.321675\u001b[0m\n",
      "\u001b[31m[02:14:03] src/tree/updater_prune.cc:74: tree pruning end, 1 roots, 14 extra nodes, 36 pruned nodes, max_depth=7\u001b[0m\n",
      "\u001b[31m[112]#011train-rmse:0.274253#011validation-rmse:0.321525\u001b[0m\n",
      "\u001b[31m[02:14:06] src/tree/updater_prune.cc:74: tree pruning end, 1 roots, 20 extra nodes, 58 pruned nodes, max_depth=10\u001b[0m\n",
      "\u001b[31m[113]#011train-rmse:0.27378#011validation-rmse:0.3214\u001b[0m\n",
      "\u001b[31m[02:14:09] src/tree/updater_prune.cc:74: tree pruning end, 1 roots, 10 extra nodes, 34 pruned nodes, max_depth=5\u001b[0m\n",
      "\u001b[31m[114]#011train-rmse:0.273579#011validation-rmse:0.321383\u001b[0m\n",
      "\u001b[31m[02:14:12] src/tree/updater_prune.cc:74: tree pruning end, 1 roots, 12 extra nodes, 42 pruned nodes, max_depth=6\u001b[0m\n",
      "\u001b[31m[115]#011train-rmse:0.273349#011validation-rmse:0.321354\u001b[0m\n",
      "\u001b[31m[02:14:15] src/tree/updater_prune.cc:74: tree pruning end, 1 roots, 2 extra nodes, 28 pruned nodes, max_depth=1\u001b[0m\n",
      "\u001b[31m[116]#011train-rmse:0.273308#011validation-rmse:0.321287\u001b[0m\n",
      "\u001b[31m[02:14:18] src/tree/updater_prune.cc:74: tree pruning end, 1 roots, 16 extra nodes, 44 pruned nodes, max_depth=8\u001b[0m\n",
      "\u001b[31m[117]#011train-rmse:0.273014#011validation-rmse:0.321185\u001b[0m\n",
      "\u001b[31m[02:14:21] src/tree/updater_prune.cc:74: tree pruning end, 1 roots, 14 extra nodes, 52 pruned nodes, max_depth=7\u001b[0m\n",
      "\u001b[31m[118]#011train-rmse:0.272695#011validation-rmse:0.32098\u001b[0m\n",
      "\u001b[31m[02:14:24] src/tree/updater_prune.cc:74: tree pruning end, 1 roots, 14 extra nodes, 28 pruned nodes, max_depth=7\u001b[0m\n",
      "\u001b[31m[119]#011train-rmse:0.272426#011validation-rmse:0.320811\u001b[0m\n",
      "\u001b[31m[02:14:27] src/tree/updater_prune.cc:74: tree pruning end, 1 roots, 10 extra nodes, 36 pruned nodes, max_depth=5\u001b[0m\n",
      "\u001b[31m[120]#011train-rmse:0.272177#011validation-rmse:0.320732\u001b[0m\n",
      "\u001b[31m[02:14:30] src/tree/updater_prune.cc:74: tree pruning end, 1 roots, 22 extra nodes, 32 pruned nodes, max_depth=10\u001b[0m\n",
      "\u001b[31m[121]#011train-rmse:0.27168#011validation-rmse:0.320615\u001b[0m\n",
      "\u001b[31m[02:14:33] src/tree/updater_prune.cc:74: tree pruning end, 1 roots, 6 extra nodes, 22 pruned nodes, max_depth=3\u001b[0m\n",
      "\u001b[31m[122]#011train-rmse:0.27152#011validation-rmse:0.320474\u001b[0m\n",
      "\u001b[31m[02:14:36] src/tree/updater_prune.cc:74: tree pruning end, 1 roots, 0 extra nodes, 44 pruned nodes, max_depth=0\u001b[0m\n",
      "\u001b[31m[123]#011train-rmse:0.271526#011validation-rmse:0.320493\u001b[0m\n",
      "\u001b[31m[02:14:39] src/tree/updater_prune.cc:74: tree pruning end, 1 roots, 2 extra nodes, 44 pruned nodes, max_depth=1\u001b[0m\n",
      "\u001b[31m[124]#011train-rmse:0.271469#011validation-rmse:0.320543\u001b[0m\n",
      "\u001b[31m[02:14:42] src/tree/updater_prune.cc:74: tree pruning end, 1 roots, 0 extra nodes, 78 pruned nodes, max_depth=0\u001b[0m\n",
      "\u001b[31m[125]#011train-rmse:0.271472#011validation-rmse:0.320549\u001b[0m\n",
      "\u001b[31m[02:14:45] src/tree/updater_prune.cc:74: tree pruning end, 1 roots, 0 extra nodes, 48 pruned nodes, max_depth=0\u001b[0m\n",
      "\u001b[31m[126]#011train-rmse:0.271471#011validation-rmse:0.320548\u001b[0m\n",
      "\u001b[31m[02:14:48] src/tree/updater_prune.cc:74: tree pruning end, 1 roots, 20 extra nodes, 14 pruned nodes, max_depth=10\u001b[0m\n",
      "\u001b[31m[127]#011train-rmse:0.271057#011validation-rmse:0.320161\u001b[0m\n",
      "\u001b[31m[02:14:51] src/tree/updater_prune.cc:74: tree pruning end, 1 roots, 2 extra nodes, 52 pruned nodes, max_depth=1\u001b[0m\n",
      "\u001b[31m[128]#011train-rmse:0.271018#011validation-rmse:0.320141\u001b[0m\n",
      "\u001b[31m[02:14:54] src/tree/updater_prune.cc:74: tree pruning end, 1 roots, 0 extra nodes, 38 pruned nodes, max_depth=0\u001b[0m\n",
      "\u001b[31m[129]#011train-rmse:0.271015#011validation-rmse:0.320132\u001b[0m\n",
      "\u001b[31m[02:14:57] src/tree/updater_prune.cc:74: tree pruning end, 1 roots, 2 extra nodes, 52 pruned nodes, max_depth=1\u001b[0m\n",
      "\u001b[31m[130]#011train-rmse:0.270961#011validation-rmse:0.320149\u001b[0m\n",
      "\u001b[31m[02:14:59] src/tree/updater_prune.cc:74: tree pruning end, 1 roots, 18 extra nodes, 18 pruned nodes, max_depth=9\u001b[0m\n",
      "\u001b[31m[131]#011train-rmse:0.270569#011validation-rmse:0.320151\u001b[0m\n",
      "\u001b[31m[02:15:02] src/tree/updater_prune.cc:74: tree pruning end, 1 roots, 2 extra nodes, 34 pruned nodes, max_depth=1\u001b[0m\n",
      "\u001b[31m[132]#011train-rmse:0.270517#011validation-rmse:0.320165\u001b[0m\n",
      "\u001b[31m[02:15:05] src/tree/updater_prune.cc:74: tree pruning end, 1 roots, 0 extra nodes, 54 pruned nodes, max_depth=0\u001b[0m\n",
      "\u001b[31m[133]#011train-rmse:0.270512#011validation-rmse:0.320149\u001b[0m\n",
      "\u001b[31m[02:15:08] src/tree/updater_prune.cc:74: tree pruning end, 1 roots, 2 extra nodes, 42 pruned nodes, max_depth=1\u001b[0m\n",
      "\u001b[31m[134]#011train-rmse:0.27045#011validation-rmse:0.320074\u001b[0m\n",
      "\u001b[31m[02:15:11] src/tree/updater_prune.cc:74: tree pruning end, 1 roots, 0 extra nodes, 56 pruned nodes, max_depth=0\u001b[0m\n",
      "\u001b[31m[135]#011train-rmse:0.270455#011validation-rmse:0.320096\u001b[0m\n",
      "\u001b[31m[02:15:14] src/tree/updater_prune.cc:74: tree pruning end, 1 roots, 6 extra nodes, 40 pruned nodes, max_depth=3\u001b[0m\n",
      "\u001b[31m[136]#011train-rmse:0.270319#011validation-rmse:0.320085\u001b[0m\n",
      "\u001b[31m[02:15:17] src/tree/updater_prune.cc:74: tree pruning end, 1 roots, 2 extra nodes, 54 pruned nodes, max_depth=1\u001b[0m\n",
      "\u001b[31m[137]#011train-rmse:0.270268#011validation-rmse:0.320037\u001b[0m\n",
      "\u001b[31m[02:15:20] src/tree/updater_prune.cc:74: tree pruning end, 1 roots, 18 extra nodes, 46 pruned nodes, max_depth=9\u001b[0m\n",
      "\u001b[31m[138]#011train-rmse:0.269805#011validation-rmse:0.319871\u001b[0m\n",
      "\u001b[31m[02:15:23] src/tree/updater_prune.cc:74: tree pruning end, 1 roots, 0 extra nodes, 46 pruned nodes, max_depth=0\u001b[0m\n",
      "\u001b[31m[139]#011train-rmse:0.269815#011validation-rmse:0.319893\u001b[0m\n",
      "\u001b[31m[02:15:26] src/tree/updater_prune.cc:74: tree pruning end, 1 roots, 4 extra nodes, 64 pruned nodes, max_depth=2\u001b[0m\n",
      "\u001b[31m[140]#011train-rmse:0.26974#011validation-rmse:0.319881\u001b[0m\n",
      "\u001b[31m[02:15:29] src/tree/updater_prune.cc:74: tree pruning end, 1 roots, 10 extra nodes, 50 pruned nodes, max_depth=5\u001b[0m\n",
      "\u001b[31m[141]#011train-rmse:0.269541#011validation-rmse:0.319873\u001b[0m\n",
      "\u001b[31m[02:15:32] src/tree/updater_prune.cc:74: tree pruning end, 1 roots, 0 extra nodes, 26 pruned nodes, max_depth=0\u001b[0m\n",
      "\u001b[31m[142]#011train-rmse:0.269535#011validation-rmse:0.319862\u001b[0m\n",
      "\u001b[31m[02:15:35] src/tree/updater_prune.cc:74: tree pruning end, 1 roots, 0 extra nodes, 58 pruned nodes, max_depth=0\u001b[0m\n",
      "\u001b[31m[143]#011train-rmse:0.269528#011validation-rmse:0.31985\u001b[0m\n",
      "\u001b[31m[02:15:38] src/tree/updater_prune.cc:74: tree pruning end, 1 roots, 2 extra nodes, 40 pruned nodes, max_depth=1\u001b[0m\n",
      "\u001b[31m[144]#011train-rmse:0.269468#011validation-rmse:0.319868\u001b[0m\n",
      "\u001b[31m[02:15:41] src/tree/updater_prune.cc:74: tree pruning end, 1 roots, 10 extra nodes, 32 pruned nodes, max_depth=5\u001b[0m\n",
      "\u001b[31m[145]#011train-rmse:0.269222#011validation-rmse:0.31969\u001b[0m\n",
      "\u001b[31m[02:15:44] src/tree/updater_prune.cc:74: tree pruning end, 1 roots, 20 extra nodes, 36 pruned nodes, max_depth=9\u001b[0m\n",
      "\u001b[31m[146]#011train-rmse:0.268702#011validation-rmse:0.319397\u001b[0m\n",
      "\u001b[31m[02:15:47] src/tree/updater_prune.cc:74: tree pruning end, 1 roots, 0 extra nodes, 42 pruned nodes, max_depth=0\u001b[0m\n",
      "\u001b[31m[147]#011train-rmse:0.268703#011validation-rmse:0.319399\u001b[0m\n",
      "\u001b[31m[02:15:50] src/tree/updater_prune.cc:74: tree pruning end, 1 roots, 0 extra nodes, 38 pruned nodes, max_depth=0\u001b[0m\n",
      "\u001b[31m[148]#011train-rmse:0.268698#011validation-rmse:0.319388\u001b[0m\n",
      "\u001b[31m[02:15:53] src/tree/updater_prune.cc:74: tree pruning end, 1 roots, 2 extra nodes, 30 pruned nodes, max_depth=1\u001b[0m\n",
      "\u001b[31m[149]#011train-rmse:0.268641#011validation-rmse:0.319362\u001b[0m\n",
      "\u001b[31m[02:15:56] src/tree/updater_prune.cc:74: tree pruning end, 1 roots, 2 extra nodes, 84 pruned nodes, max_depth=1\u001b[0m\n",
      "\u001b[31m[150]#011train-rmse:0.268613#011validation-rmse:0.319326\u001b[0m\n",
      "\u001b[31m[02:15:59] src/tree/updater_prune.cc:74: tree pruning end, 1 roots, 16 extra nodes, 66 pruned nodes, max_depth=8\u001b[0m\n",
      "\u001b[31m[151]#011train-rmse:0.268295#011validation-rmse:0.319282\u001b[0m\n",
      "\u001b[31m[02:16:02] src/tree/updater_prune.cc:74: tree pruning end, 1 roots, 10 extra nodes, 62 pruned nodes, max_depth=5\u001b[0m\n",
      "\u001b[31m[152]#011train-rmse:0.268107#011validation-rmse:0.31917\u001b[0m\n",
      "\u001b[31m[02:16:05] src/tree/updater_prune.cc:74: tree pruning end, 1 roots, 20 extra nodes, 8 pruned nodes, max_depth=10\u001b[0m\n",
      "\u001b[31m[153]#011train-rmse:0.267719#011validation-rmse:0.319131\u001b[0m\n",
      "\u001b[31m[02:16:08] src/tree/updater_prune.cc:74: tree pruning end, 1 roots, 2 extra nodes, 46 pruned nodes, max_depth=1\u001b[0m\n",
      "\u001b[31m[154]#011train-rmse:0.267677#011validation-rmse:0.319123\u001b[0m\n",
      "\u001b[31m[02:16:11] src/tree/updater_prune.cc:74: tree pruning end, 1 roots, 2 extra nodes, 50 pruned nodes, max_depth=1\u001b[0m\n",
      "\u001b[31m[155]#011train-rmse:0.267624#011validation-rmse:0.319134\u001b[0m\n",
      "\u001b[31m[02:16:14] src/tree/updater_prune.cc:74: tree pruning end, 1 roots, 0 extra nodes, 46 pruned nodes, max_depth=0\u001b[0m\n",
      "\u001b[31m[156]#011train-rmse:0.267624#011validation-rmse:0.319135\u001b[0m\n",
      "\u001b[31m[02:16:17] src/tree/updater_prune.cc:74: tree pruning end, 1 roots, 12 extra nodes, 28 pruned nodes, max_depth=6\u001b[0m\n",
      "\u001b[31m[157]#011train-rmse:0.267355#011validation-rmse:0.318972\u001b[0m\n",
      "\u001b[31m[02:16:20] src/tree/updater_prune.cc:74: tree pruning end, 1 roots, 0 extra nodes, 32 pruned nodes, max_depth=0\u001b[0m\n",
      "\u001b[31m[158]#011train-rmse:0.267355#011validation-rmse:0.318971\u001b[0m\n",
      "\u001b[31m[02:16:23] src/tree/updater_prune.cc:74: tree pruning end, 1 roots, 0 extra nodes, 46 pruned nodes, max_depth=0\u001b[0m\n",
      "\u001b[31m[159]#011train-rmse:0.267352#011validation-rmse:0.318963\u001b[0m\n",
      "\u001b[31m[02:16:26] src/tree/updater_prune.cc:74: tree pruning end, 1 roots, 12 extra nodes, 18 pruned nodes, max_depth=6\u001b[0m\n",
      "\u001b[31m[160]#011train-rmse:0.267118#011validation-rmse:0.318815\u001b[0m\n",
      "\u001b[31m[02:16:29] src/tree/updater_prune.cc:74: tree pruning end, 1 roots, 12 extra nodes, 30 pruned nodes, max_depth=6\u001b[0m\n",
      "\u001b[31m[161]#011train-rmse:0.266923#011validation-rmse:0.318778\u001b[0m\n",
      "\u001b[31m[02:16:32] src/tree/updater_prune.cc:74: tree pruning end, 1 roots, 0 extra nodes, 36 pruned nodes, max_depth=0\u001b[0m\n",
      "\u001b[31m[162]#011train-rmse:0.266915#011validation-rmse:0.318757\u001b[0m\n",
      "\u001b[31m[02:16:35] src/tree/updater_prune.cc:74: tree pruning end, 1 roots, 6 extra nodes, 32 pruned nodes, max_depth=3\u001b[0m\n",
      "\u001b[31m[163]#011train-rmse:0.266802#011validation-rmse:0.31874\u001b[0m\n",
      "\u001b[31m[02:16:38] src/tree/updater_prune.cc:74: tree pruning end, 1 roots, 6 extra nodes, 30 pruned nodes, max_depth=3\u001b[0m\n",
      "\u001b[31m[164]#011train-rmse:0.266697#011validation-rmse:0.318775\u001b[0m\n",
      "\u001b[31m[02:16:41] src/tree/updater_prune.cc:74: tree pruning end, 1 roots, 2 extra nodes, 38 pruned nodes, max_depth=1\u001b[0m\n",
      "\u001b[31m[165]#011train-rmse:0.26666#011validation-rmse:0.318806\u001b[0m\n",
      "\u001b[31m[02:16:44] src/tree/updater_prune.cc:74: tree pruning end, 1 roots, 0 extra nodes, 32 pruned nodes, max_depth=0\u001b[0m\n",
      "\u001b[31m[166]#011train-rmse:0.26666#011validation-rmse:0.318806\u001b[0m\n",
      "\u001b[31m[02:16:47] src/tree/updater_prune.cc:74: tree pruning end, 1 roots, 16 extra nodes, 62 pruned nodes, max_depth=8\u001b[0m\n",
      "\u001b[31m[167]#011train-rmse:0.266268#011validation-rmse:0.318657\u001b[0m\n",
      "\u001b[31m[02:16:50] src/tree/updater_prune.cc:74: tree pruning end, 1 roots, 0 extra nodes, 34 pruned nodes, max_depth=0\u001b[0m\n",
      "\u001b[31m[168]#011train-rmse:0.266262#011validation-rmse:0.318637\u001b[0m\n",
      "\u001b[31m[02:16:53] src/tree/updater_prune.cc:74: tree pruning end, 1 roots, 4 extra nodes, 22 pruned nodes, max_depth=2\u001b[0m\n",
      "\u001b[31m[169]#011train-rmse:0.266158#011validation-rmse:0.318517\u001b[0m\n",
      "\u001b[31m[02:16:56] src/tree/updater_prune.cc:74: tree pruning end, 1 roots, 0 extra nodes, 34 pruned nodes, max_depth=0\u001b[0m\n",
      "\u001b[31m[170]#011train-rmse:0.266158#011validation-rmse:0.318517\u001b[0m\n",
      "\u001b[31m[02:16:59] src/tree/updater_prune.cc:74: tree pruning end, 1 roots, 8 extra nodes, 54 pruned nodes, max_depth=4\u001b[0m\n",
      "\u001b[31m[171]#011train-rmse:0.265989#011validation-rmse:0.318507\u001b[0m\n",
      "\u001b[31m[02:17:02] src/tree/updater_prune.cc:74: tree pruning end, 1 roots, 14 extra nodes, 18 pruned nodes, max_depth=7\u001b[0m\n",
      "\u001b[31m[172]#011train-rmse:0.265683#011validation-rmse:0.318235\u001b[0m\n",
      "\u001b[31m[02:17:06] src/tree/updater_prune.cc:74: tree pruning end, 1 roots, 2 extra nodes, 76 pruned nodes, max_depth=1\u001b[0m\n",
      "\u001b[31m[173]#011train-rmse:0.265663#011validation-rmse:0.318193\u001b[0m\n",
      "\u001b[31m[02:17:09] src/tree/updater_prune.cc:74: tree pruning end, 1 roots, 0 extra nodes, 46 pruned nodes, max_depth=0\u001b[0m\n",
      "\u001b[31m[174]#011train-rmse:0.265663#011validation-rmse:0.318196\u001b[0m\n",
      "\u001b[31m[02:17:12] src/tree/updater_prune.cc:74: tree pruning end, 1 roots, 0 extra nodes, 56 pruned nodes, max_depth=0\u001b[0m\n",
      "\u001b[31m[175]#011train-rmse:0.265665#011validation-rmse:0.318204\u001b[0m\n",
      "\u001b[31m[02:17:15] src/tree/updater_prune.cc:74: tree pruning end, 1 roots, 0 extra nodes, 64 pruned nodes, max_depth=0\u001b[0m\n",
      "\u001b[31m[176]#011train-rmse:0.265665#011validation-rmse:0.318204\u001b[0m\n",
      "\u001b[31m[02:17:18] src/tree/updater_prune.cc:74: tree pruning end, 1 roots, 16 extra nodes, 38 pruned nodes, max_depth=8\u001b[0m\n",
      "\u001b[31m[177]#011train-rmse:0.265404#011validation-rmse:0.318116\u001b[0m\n",
      "\u001b[31m[02:17:21] src/tree/updater_prune.cc:74: tree pruning end, 1 roots, 0 extra nodes, 38 pruned nodes, max_depth=0\u001b[0m\n",
      "\u001b[31m[178]#011train-rmse:0.265405#011validation-rmse:0.318119\u001b[0m\n",
      "\u001b[31m[02:17:24] src/tree/updater_prune.cc:74: tree pruning end, 1 roots, 12 extra nodes, 64 pruned nodes, max_depth=6\u001b[0m\n",
      "\u001b[31m[179]#011train-rmse:0.265216#011validation-rmse:0.318088\u001b[0m\n",
      "\u001b[31m[02:17:27] src/tree/updater_prune.cc:74: tree pruning end, 1 roots, 8 extra nodes, 20 pruned nodes, max_depth=4\u001b[0m\n",
      "\u001b[31m[180]#011train-rmse:0.265072#011validation-rmse:0.318051\u001b[0m\n",
      "\u001b[31m[02:17:30] src/tree/updater_prune.cc:74: tree pruning end, 1 roots, 0 extra nodes, 28 pruned nodes, max_depth=0\u001b[0m\n",
      "\u001b[31m[181]#011train-rmse:0.265069#011validation-rmse:0.318043\u001b[0m\n",
      "\u001b[31m[02:17:33] src/tree/updater_prune.cc:74: tree pruning end, 1 roots, 4 extra nodes, 58 pruned nodes, max_depth=2\u001b[0m\n",
      "\u001b[31m[182]#011train-rmse:0.264977#011validation-rmse:0.317948\u001b[0m\n",
      "\u001b[31m[02:17:36] src/tree/updater_prune.cc:74: tree pruning end, 1 roots, 18 extra nodes, 20 pruned nodes, max_depth=9\u001b[0m\n",
      "\u001b[31m[183]#011train-rmse:0.264603#011validation-rmse:0.317774\u001b[0m\n",
      "\u001b[31m[02:17:39] src/tree/updater_prune.cc:74: tree pruning end, 1 roots, 0 extra nodes, 54 pruned nodes, max_depth=0\u001b[0m\n",
      "\u001b[31m[184]#011train-rmse:0.264601#011validation-rmse:0.317769\u001b[0m\n",
      "\u001b[31m[02:17:42] src/tree/updater_prune.cc:74: tree pruning end, 1 roots, 0 extra nodes, 26 pruned nodes, max_depth=0\u001b[0m\n",
      "\u001b[31m[185]#011train-rmse:0.264608#011validation-rmse:0.317788\u001b[0m\n",
      "\u001b[31m[02:17:45] src/tree/updater_prune.cc:74: tree pruning end, 1 roots, 6 extra nodes, 44 pruned nodes, max_depth=3\u001b[0m\n",
      "\u001b[31m[186]#011train-rmse:0.26441#011validation-rmse:0.317672\u001b[0m\n",
      "\u001b[31m[02:17:48] src/tree/updater_prune.cc:74: tree pruning end, 1 roots, 0 extra nodes, 44 pruned nodes, max_depth=0\u001b[0m\n",
      "\u001b[31m[187]#011train-rmse:0.264408#011validation-rmse:0.317665\u001b[0m\n",
      "\u001b[31m[02:17:51] src/tree/updater_prune.cc:74: tree pruning end, 1 roots, 0 extra nodes, 46 pruned nodes, max_depth=0\u001b[0m\n",
      "\u001b[31m[188]#011train-rmse:0.264413#011validation-rmse:0.317679\u001b[0m\n",
      "\u001b[31m[02:17:54] src/tree/updater_prune.cc:74: tree pruning end, 1 roots, 18 extra nodes, 42 pruned nodes, max_depth=9\u001b[0m\n",
      "\u001b[31m[189]#011train-rmse:0.264114#011validation-rmse:0.317534\u001b[0m\n",
      "\u001b[31m[02:17:57] src/tree/updater_prune.cc:74: tree pruning end, 1 roots, 4 extra nodes, 58 pruned nodes, max_depth=2\u001b[0m\n",
      "\u001b[31m[190]#011train-rmse:0.264028#011validation-rmse:0.317542\u001b[0m\n",
      "\u001b[31m[02:18:00] src/tree/updater_prune.cc:74: tree pruning end, 1 roots, 2 extra nodes, 42 pruned nodes, max_depth=1\u001b[0m\n",
      "\u001b[31m[191]#011train-rmse:0.263982#011validation-rmse:0.317516\u001b[0m\n",
      "\u001b[31m[02:18:03] src/tree/updater_prune.cc:74: tree pruning end, 1 roots, 0 extra nodes, 52 pruned nodes, max_depth=0\u001b[0m\n",
      "\u001b[31m[192]#011train-rmse:0.263984#011validation-rmse:0.31752\u001b[0m\n",
      "\u001b[31m[02:18:06] src/tree/updater_prune.cc:74: tree pruning end, 1 roots, 18 extra nodes, 52 pruned nodes, max_depth=9\u001b[0m\n",
      "\u001b[31m[193]#011train-rmse:0.263622#011validation-rmse:0.317535\u001b[0m\n",
      "\u001b[31m[02:18:09] src/tree/updater_prune.cc:74: tree pruning end, 1 roots, 18 extra nodes, 20 pruned nodes, max_depth=9\u001b[0m\n",
      "\u001b[31m[194]#011train-rmse:0.26327#011validation-rmse:0.317406\u001b[0m\n",
      "\u001b[31m[02:18:12] src/tree/updater_prune.cc:74: tree pruning end, 1 roots, 0 extra nodes, 28 pruned nodes, max_depth=0\u001b[0m\n",
      "\u001b[31m[195]#011train-rmse:0.263268#011validation-rmse:0.317402\u001b[0m\n",
      "\u001b[31m[02:18:15] src/tree/updater_prune.cc:74: tree pruning end, 1 roots, 8 extra nodes, 58 pruned nodes, max_depth=4\u001b[0m\n",
      "\u001b[31m[196]#011train-rmse:0.263058#011validation-rmse:0.31739\u001b[0m\n",
      "\u001b[31m[02:18:18] src/tree/updater_prune.cc:74: tree pruning end, 1 roots, 2 extra nodes, 44 pruned nodes, max_depth=1\u001b[0m\n",
      "\u001b[31m[197]#011train-rmse:0.263007#011validation-rmse:0.317429\u001b[0m\n",
      "\u001b[31m[02:18:21] src/tree/updater_prune.cc:74: tree pruning end, 1 roots, 8 extra nodes, 62 pruned nodes, max_depth=4\u001b[0m\n",
      "\u001b[31m[198]#011train-rmse:0.262881#011validation-rmse:0.317323\u001b[0m\n",
      "\u001b[31m[02:18:24] src/tree/updater_prune.cc:74: tree pruning end, 1 roots, 0 extra nodes, 38 pruned nodes, max_depth=0\u001b[0m\n",
      "\u001b[31m[199]#011train-rmse:0.262884#011validation-rmse:0.317332\u001b[0m\n",
      "Billable seconds: 644\n"
     ]
    }
   ],
   "source": [
    "# TODO: Create a new estimator object attached to the best training job found during hyperparameter tuning\n",
    "\n",
    "xgb_attached = sagemaker.estimator.Estimator.attach(xgb_hyperparameter_tuner.best_training_job())\n"
   ]
  },
  {
   "cell_type": "markdown",
   "metadata": {},
   "source": [
    "Now that we have an estimator object attached to the correct training job, we can proceed as we normally would and create a transformer object."
   ]
  },
  {
   "cell_type": "code",
   "execution_count": 26,
   "metadata": {},
   "outputs": [
    {
     "name": "stderr",
     "output_type": "stream",
     "text": [
      "INFO:sagemaker:Creating model with name: xgboost-190203-0154-006-02fa17a9\n"
     ]
    }
   ],
   "source": [
    "# TODO: Create a transformer object from the attached estimator. Using an instance count of 1 and an instance type of ml.m4.xlarge\n",
    "#       should be more than enough.\n",
    "\n",
    "xgb_transformer = xgb_attached.transformer(instance_count = 1, instance_type = 'ml.m4.xlarge')\n"
   ]
  },
  {
   "cell_type": "markdown",
   "metadata": {},
   "source": [
    "Next we actually perform the transform job. When doing so we need to make sure to specify the type of data we are sending so that it is serialized correctly in the background. In our case we are providing our model with csv data so we specify `text/csv`. Also, if the test data that we have provided is too large to process all at once then we need to specify how the data file should be split up. Since each line is a single entry in our data set we tell SageMaker that it can split the input on each line."
   ]
  },
  {
   "cell_type": "code",
   "execution_count": 36,
   "metadata": {},
   "outputs": [
    {
     "name": "stderr",
     "output_type": "stream",
     "text": [
      "INFO:sagemaker:Creating transform job with name: xgboost-190203-0154-006-02fa17a9-2019-02-03-02-38-20-802\n"
     ]
    }
   ],
   "source": [
    "# TODO: Start the transform job. Make sure to specify the content type and the split type of the test data.\n",
    "xgb_transformer.transform(test_location, content_type='text/csv', split_type='Line')"
   ]
  },
  {
   "cell_type": "markdown",
   "metadata": {},
   "source": [
    "Currently the transform job is running but it is doing so in the background. Since we wish to wait until the transform job is done and we would like a bit of feedback we can run the `wait()` method."
   ]
  },
  {
   "cell_type": "code",
   "execution_count": 37,
   "metadata": {},
   "outputs": [
    {
     "name": "stdout",
     "output_type": "stream",
     "text": [
      "............................................!\n"
     ]
    }
   ],
   "source": [
    "xgb_transformer.wait()"
   ]
  },
  {
   "cell_type": "markdown",
   "metadata": {},
   "source": [
    "Now the transform job has executed and the result, the estimated sentiment of each review, has been saved on S3. Since we would rather work on this file locally we can perform a bit of notebook magic to copy the file to the `data_dir`."
   ]
  },
  {
   "cell_type": "code",
   "execution_count": 38,
   "metadata": {},
   "outputs": [
    {
     "name": "stdout",
     "output_type": "stream",
     "text": [
      "Completed 256.0 KiB/370.5 KiB (2.4 MiB/s) with 1 file(s) remaining\r",
      "Completed 370.5 KiB/370.5 KiB (3.4 MiB/s) with 1 file(s) remaining\r",
      "download: s3://sagemaker-us-east-2-980418891823/xgboost-190203-0154-006-02fa17a9-2019-02-03-02-26-07-862/test.csv.out to ../data/xgboost/test.csv.out\r\n"
     ]
    }
   ],
   "source": [
    "!aws s3 cp --recursive $xgb_transformer.output_path $data_dir"
   ]
  },
  {
   "cell_type": "markdown",
   "metadata": {},
   "source": [
    "The last step is now to read in the output from our model, convert the output to something a little more usable, in this case we want the sentiment to be either `1` (positive) or `0` (negative), and then compare to the ground truth labels."
   ]
  },
  {
   "cell_type": "code",
   "execution_count": 39,
   "metadata": {},
   "outputs": [],
   "source": [
    "predictions = pd.read_csv(os.path.join(data_dir, 'test.csv.out'), header=None)\n",
    "predictions = [round(num) for num in predictions.squeeze().values]"
   ]
  },
  {
   "cell_type": "code",
   "execution_count": 40,
   "metadata": {},
   "outputs": [
    {
     "data": {
      "text/plain": [
       "0.86372"
      ]
     },
     "execution_count": 40,
     "metadata": {},
     "output_type": "execute_result"
    }
   ],
   "source": [
    "from sklearn.metrics import accuracy_score\n",
    "accuracy_score(test_y, predictions)"
   ]
  },
  {
   "cell_type": "markdown",
   "metadata": {},
   "source": [
    "## Optional: Clean up\n",
    "\n",
    "The default notebook instance on SageMaker doesn't have a lot of excess disk space available. As you continue to complete and execute notebooks you will eventually fill up this disk space, leading to errors which can be difficult to diagnose. Once you are completely finished using a notebook it is a good idea to remove the files that you created along the way. Of course, you can do this from the terminal or from the notebook hub if you would like. The cell below contains some commands to clean up the created files from within the notebook."
   ]
  },
  {
   "cell_type": "code",
   "execution_count": 41,
   "metadata": {},
   "outputs": [],
   "source": [
    "# First we will remove all of the files contained in the data_dir directory\n",
    "!rm $data_dir/*\n",
    "\n",
    "# And then we delete the directory itself\n",
    "!rmdir $data_dir\n",
    "\n",
    "# Similarly we will remove the files in the cache_dir directory and the directory itself\n",
    "!rm $cache_dir/*\n",
    "!rmdir $cache_dir"
   ]
  },
  {
   "cell_type": "code",
   "execution_count": null,
   "metadata": {},
   "outputs": [],
   "source": []
  }
 ],
 "metadata": {
  "kernelspec": {
   "display_name": "conda_python3",
   "language": "python",
   "name": "conda_python3"
  },
  "language_info": {
   "codemirror_mode": {
    "name": "ipython",
    "version": 3
   },
   "file_extension": ".py",
   "mimetype": "text/x-python",
   "name": "python",
   "nbconvert_exporter": "python",
   "pygments_lexer": "ipython3",
   "version": "3.6.5"
  }
 },
 "nbformat": 4,
 "nbformat_minor": 2
}
